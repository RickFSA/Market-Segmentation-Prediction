{
 "cells": [
  {
   "cell_type": "code",
   "execution_count": 1,
   "metadata": {},
   "outputs": [],
   "source": [
    "import pandas as pd\n",
    "import numpy as np\n",
    "import matplotlib.pyplot as plt\n",
    "import seaborn as sns\n",
    "\n",
    "from sklearn.preprocessing import MinMaxScaler\n",
    "\n",
    "from keras.layers import Dense, LSTM\n",
    "from keras.models import Sequential\n"
   ]
  },
  {
   "cell_type": "code",
   "execution_count": 2,
   "metadata": {},
   "outputs": [
    {
     "data": {
      "text/html": [
       "<div>\n",
       "<style scoped>\n",
       "    .dataframe tbody tr th:only-of-type {\n",
       "        vertical-align: middle;\n",
       "    }\n",
       "\n",
       "    .dataframe tbody tr th {\n",
       "        vertical-align: top;\n",
       "    }\n",
       "\n",
       "    .dataframe thead th {\n",
       "        text-align: right;\n",
       "    }\n",
       "</style>\n",
       "<table border=\"1\" class=\"dataframe\">\n",
       "  <thead>\n",
       "    <tr style=\"text-align: right;\">\n",
       "      <th></th>\n",
       "      <th>invoiceno</th>\n",
       "      <th>stockcode</th>\n",
       "      <th>description</th>\n",
       "      <th>quantity</th>\n",
       "      <th>invoicedate</th>\n",
       "      <th>unitprice</th>\n",
       "      <th>customerid</th>\n",
       "      <th>country</th>\n",
       "      <th>revenue</th>\n",
       "      <th>score</th>\n",
       "      <th>segment</th>\n",
       "    </tr>\n",
       "  </thead>\n",
       "  <tbody>\n",
       "    <tr>\n",
       "      <th>0</th>\n",
       "      <td>536365</td>\n",
       "      <td>85123A</td>\n",
       "      <td>WHITE HANGING HEART T-LIGHT HOLDER</td>\n",
       "      <td>6</td>\n",
       "      <td>2010-12-01 08:26:00</td>\n",
       "      <td>2.55</td>\n",
       "      <td>17850.0</td>\n",
       "      <td>United Kingdom</td>\n",
       "      <td>15.30</td>\n",
       "      <td>1</td>\n",
       "      <td>Low-Value</td>\n",
       "    </tr>\n",
       "    <tr>\n",
       "      <th>1</th>\n",
       "      <td>536365</td>\n",
       "      <td>71053</td>\n",
       "      <td>WHITE METAL LANTERN</td>\n",
       "      <td>6</td>\n",
       "      <td>2010-12-01 08:26:00</td>\n",
       "      <td>3.39</td>\n",
       "      <td>17850.0</td>\n",
       "      <td>United Kingdom</td>\n",
       "      <td>20.34</td>\n",
       "      <td>1</td>\n",
       "      <td>Low-Value</td>\n",
       "    </tr>\n",
       "    <tr>\n",
       "      <th>2</th>\n",
       "      <td>536365</td>\n",
       "      <td>84406B</td>\n",
       "      <td>CREAM CUPID HEARTS COAT HANGER</td>\n",
       "      <td>8</td>\n",
       "      <td>2010-12-01 08:26:00</td>\n",
       "      <td>2.75</td>\n",
       "      <td>17850.0</td>\n",
       "      <td>United Kingdom</td>\n",
       "      <td>22.00</td>\n",
       "      <td>1</td>\n",
       "      <td>Low-Value</td>\n",
       "    </tr>\n",
       "    <tr>\n",
       "      <th>3</th>\n",
       "      <td>536365</td>\n",
       "      <td>84029G</td>\n",
       "      <td>KNITTED UNION FLAG HOT WATER BOTTLE</td>\n",
       "      <td>6</td>\n",
       "      <td>2010-12-01 08:26:00</td>\n",
       "      <td>3.39</td>\n",
       "      <td>17850.0</td>\n",
       "      <td>United Kingdom</td>\n",
       "      <td>20.34</td>\n",
       "      <td>1</td>\n",
       "      <td>Low-Value</td>\n",
       "    </tr>\n",
       "    <tr>\n",
       "      <th>4</th>\n",
       "      <td>536365</td>\n",
       "      <td>84029E</td>\n",
       "      <td>RED WOOLLY HOTTIE WHITE HEART.</td>\n",
       "      <td>6</td>\n",
       "      <td>2010-12-01 08:26:00</td>\n",
       "      <td>3.39</td>\n",
       "      <td>17850.0</td>\n",
       "      <td>United Kingdom</td>\n",
       "      <td>20.34</td>\n",
       "      <td>1</td>\n",
       "      <td>Low-Value</td>\n",
       "    </tr>\n",
       "  </tbody>\n",
       "</table>\n",
       "</div>"
      ],
      "text/plain": [
       "  invoiceno stockcode                          description  quantity  \\\n",
       "0    536365    85123A   WHITE HANGING HEART T-LIGHT HOLDER         6   \n",
       "1    536365     71053                  WHITE METAL LANTERN         6   \n",
       "2    536365    84406B       CREAM CUPID HEARTS COAT HANGER         8   \n",
       "3    536365    84029G  KNITTED UNION FLAG HOT WATER BOTTLE         6   \n",
       "4    536365    84029E       RED WOOLLY HOTTIE WHITE HEART.         6   \n",
       "\n",
       "           invoicedate  unitprice  customerid         country  revenue  score  \\\n",
       "0  2010-12-01 08:26:00       2.55     17850.0  United Kingdom    15.30      1   \n",
       "1  2010-12-01 08:26:00       3.39     17850.0  United Kingdom    20.34      1   \n",
       "2  2010-12-01 08:26:00       2.75     17850.0  United Kingdom    22.00      1   \n",
       "3  2010-12-01 08:26:00       3.39     17850.0  United Kingdom    20.34      1   \n",
       "4  2010-12-01 08:26:00       3.39     17850.0  United Kingdom    20.34      1   \n",
       "\n",
       "     segment  \n",
       "0  Low-Value  \n",
       "1  Low-Value  \n",
       "2  Low-Value  \n",
       "3  Low-Value  \n",
       "4  Low-Value  "
      ]
     },
     "execution_count": 2,
     "metadata": {},
     "output_type": "execute_result"
    }
   ],
   "source": [
    "df = pd.read_csv('online_retail_rfmscore.csv')\n",
    "df.head()"
   ]
  },
  {
   "cell_type": "code",
   "execution_count": 3,
   "metadata": {},
   "outputs": [
    {
     "data": {
      "text/plain": [
       "(406829, 11)"
      ]
     },
     "execution_count": 3,
     "metadata": {},
     "output_type": "execute_result"
    }
   ],
   "source": [
    "df.shape"
   ]
  },
  {
   "cell_type": "code",
   "execution_count": 4,
   "metadata": {},
   "outputs": [
    {
     "data": {
      "text/plain": [
       "invoiceno      0\n",
       "stockcode      0\n",
       "description    0\n",
       "quantity       0\n",
       "invoicedate    0\n",
       "unitprice      0\n",
       "customerid     0\n",
       "country        0\n",
       "revenue        0\n",
       "score          0\n",
       "segment        0\n",
       "dtype: int64"
      ]
     },
     "execution_count": 4,
     "metadata": {},
     "output_type": "execute_result"
    }
   ],
   "source": [
    "df.isnull().sum()"
   ]
  },
  {
   "cell_type": "code",
   "execution_count": 5,
   "metadata": {},
   "outputs": [
    {
     "name": "stdout",
     "output_type": "stream",
     "text": [
      "<class 'pandas.core.frame.DataFrame'>\n",
      "RangeIndex: 406829 entries, 0 to 406828\n",
      "Data columns (total 11 columns):\n",
      " #   Column       Non-Null Count   Dtype  \n",
      "---  ------       --------------   -----  \n",
      " 0   invoiceno    406829 non-null  object \n",
      " 1   stockcode    406829 non-null  object \n",
      " 2   description  406829 non-null  object \n",
      " 3   quantity     406829 non-null  int64  \n",
      " 4   invoicedate  406829 non-null  object \n",
      " 5   unitprice    406829 non-null  float64\n",
      " 6   customerid   406829 non-null  float64\n",
      " 7   country      406829 non-null  object \n",
      " 8   revenue      406829 non-null  float64\n",
      " 9   score        406829 non-null  int64  \n",
      " 10  segment      406829 non-null  object \n",
      "dtypes: float64(3), int64(2), object(6)\n",
      "memory usage: 34.1+ MB\n"
     ]
    }
   ],
   "source": [
    "df.info()"
   ]
  },
  {
   "cell_type": "code",
   "execution_count": 6,
   "metadata": {},
   "outputs": [],
   "source": [
    "sales = df.groupby('invoicedate')['revenue'].sum().reset_index()"
   ]
  },
  {
   "cell_type": "code",
   "execution_count": 7,
   "metadata": {},
   "outputs": [],
   "source": [
    "sales['invoicedate'] = pd.to_datetime(sales.invoicedate)"
   ]
  },
  {
   "cell_type": "code",
   "execution_count": 8,
   "metadata": {},
   "outputs": [
    {
     "data": {
      "text/plain": [
       "invoicedate    datetime64[ns]\n",
       "revenue               float64\n",
       "dtype: object"
      ]
     },
     "execution_count": 8,
     "metadata": {},
     "output_type": "execute_result"
    }
   ],
   "source": [
    "sales.dtypes"
   ]
  },
  {
   "cell_type": "code",
   "execution_count": 9,
   "metadata": {},
   "outputs": [],
   "source": [
    "sales.rename(columns={'invoicedate': 'date', 'revenue': 'sale'}, inplace=True)"
   ]
  },
  {
   "cell_type": "code",
   "execution_count": 10,
   "metadata": {},
   "outputs": [],
   "source": [
    "year = sales['date'].dt.year.astype('str')\n",
    "month = sales['date'].dt.month.astype('str')\n",
    "week = sales['date'].dt.week.astype('str')\n",
    "\n",
    "sales['date'] = year + '-' + month + '-' + week"
   ]
  },
  {
   "cell_type": "code",
   "execution_count": 11,
   "metadata": {},
   "outputs": [
    {
     "data": {
      "text/html": [
       "<div>\n",
       "<style scoped>\n",
       "    .dataframe tbody tr th:only-of-type {\n",
       "        vertical-align: middle;\n",
       "    }\n",
       "\n",
       "    .dataframe tbody tr th {\n",
       "        vertical-align: top;\n",
       "    }\n",
       "\n",
       "    .dataframe thead th {\n",
       "        text-align: right;\n",
       "    }\n",
       "</style>\n",
       "<table border=\"1\" class=\"dataframe\">\n",
       "  <thead>\n",
       "    <tr style=\"text-align: right;\">\n",
       "      <th></th>\n",
       "      <th>date</th>\n",
       "      <th>sale</th>\n",
       "    </tr>\n",
       "  </thead>\n",
       "  <tbody>\n",
       "    <tr>\n",
       "      <th>0</th>\n",
       "      <td>2010-12-48</td>\n",
       "      <td>139.12</td>\n",
       "    </tr>\n",
       "    <tr>\n",
       "      <th>1</th>\n",
       "      <td>2010-12-48</td>\n",
       "      <td>22.20</td>\n",
       "    </tr>\n",
       "    <tr>\n",
       "      <th>2</th>\n",
       "      <td>2010-12-48</td>\n",
       "      <td>348.78</td>\n",
       "    </tr>\n",
       "    <tr>\n",
       "      <th>3</th>\n",
       "      <td>2010-12-48</td>\n",
       "      <td>17.85</td>\n",
       "    </tr>\n",
       "    <tr>\n",
       "      <th>4</th>\n",
       "      <td>2010-12-48</td>\n",
       "      <td>855.86</td>\n",
       "    </tr>\n",
       "  </tbody>\n",
       "</table>\n",
       "</div>"
      ],
      "text/plain": [
       "         date    sale\n",
       "0  2010-12-48  139.12\n",
       "1  2010-12-48   22.20\n",
       "2  2010-12-48  348.78\n",
       "3  2010-12-48   17.85\n",
       "4  2010-12-48  855.86"
      ]
     },
     "execution_count": 11,
     "metadata": {},
     "output_type": "execute_result"
    }
   ],
   "source": [
    "sales.head()"
   ]
  },
  {
   "cell_type": "code",
   "execution_count": 12,
   "metadata": {},
   "outputs": [],
   "source": [
    "df_sale = sales.groupby('date').sale.sum().reset_index()"
   ]
  },
  {
   "cell_type": "code",
   "execution_count": 13,
   "metadata": {},
   "outputs": [
    {
     "data": {
      "text/plain": [
       "(63, 2)"
      ]
     },
     "execution_count": 13,
     "metadata": {},
     "output_type": "execute_result"
    }
   ],
   "source": [
    "df_sale.shape"
   ]
  },
  {
   "cell_type": "code",
   "execution_count": 14,
   "metadata": {},
   "outputs": [
    {
     "data": {
      "text/plain": [
       "'2011-9-39'"
      ]
     },
     "execution_count": 14,
     "metadata": {},
     "output_type": "execute_result"
    }
   ],
   "source": [
    "df_sale.date.max()"
   ]
  },
  {
   "cell_type": "code",
   "execution_count": 15,
   "metadata": {},
   "outputs": [
    {
     "data": {
      "text/plain": [
       "'2010-12-48'"
      ]
     },
     "execution_count": 15,
     "metadata": {},
     "output_type": "execute_result"
    }
   ],
   "source": [
    "df_sale.date.min()"
   ]
  },
  {
   "cell_type": "code",
   "execution_count": 16,
   "metadata": {},
   "outputs": [
    {
     "data": {
      "text/plain": [
       "(63, 2)"
      ]
     },
     "execution_count": 16,
     "metadata": {},
     "output_type": "execute_result"
    }
   ],
   "source": [
    "df_sale.shape"
   ]
  },
  {
   "cell_type": "code",
   "execution_count": 17,
   "metadata": {},
   "outputs": [
    {
     "data": {
      "text/plain": [
       "<matplotlib.axes._subplots.AxesSubplot at 0x1faa84b7eb0>"
      ]
     },
     "execution_count": 17,
     "metadata": {},
     "output_type": "execute_result"
    },
    {
     "data": {
      "image/png": "[encoded data removed]",
      "text/plain": [
       "<Figure size 1080x720 with 1 Axes>"
      ]
     },
     "metadata": {
      "needs_background": "light"
     },
     "output_type": "display_data"
    }
   ],
   "source": [
    "plt.figure(figsize=(15,10))\n",
    "sns.lineplot(x='date', y='sale', data=df_sale)"
   ]
  },
  {
   "cell_type": "code",
   "execution_count": 18,
   "metadata": {},
   "outputs": [],
   "source": [
    "sales_diff = df_sale.copy()\n",
    "\n",
    "sales_diff['previous_sale'] = sales_diff['sale'].shift(1)"
   ]
  },
  {
   "cell_type": "code",
   "execution_count": 19,
   "metadata": {},
   "outputs": [],
   "source": [
    "sales_diff = sales_diff.dropna()\n",
    "\n",
    "sales_diff['diff'] = (sales_diff.sale - sales_diff.previous_sale)"
   ]
  },
  {
   "cell_type": "code",
   "execution_count": 20,
   "metadata": {},
   "outputs": [
    {
     "data": {
      "text/html": [
       "<div>\n",
       "<style scoped>\n",
       "    .dataframe tbody tr th:only-of-type {\n",
       "        vertical-align: middle;\n",
       "    }\n",
       "\n",
       "    .dataframe tbody tr th {\n",
       "        vertical-align: top;\n",
       "    }\n",
       "\n",
       "    .dataframe thead th {\n",
       "        text-align: right;\n",
       "    }\n",
       "</style>\n",
       "<table border=\"1\" class=\"dataframe\">\n",
       "  <thead>\n",
       "    <tr style=\"text-align: right;\">\n",
       "      <th></th>\n",
       "      <th>date</th>\n",
       "      <th>sale</th>\n",
       "      <th>previous_sale</th>\n",
       "      <th>diff</th>\n",
       "    </tr>\n",
       "  </thead>\n",
       "  <tbody>\n",
       "    <tr>\n",
       "      <th>1</th>\n",
       "      <td>2010-12-49</td>\n",
       "      <td>208040.570</td>\n",
       "      <td>145805.750</td>\n",
       "      <td>62234.820</td>\n",
       "    </tr>\n",
       "    <tr>\n",
       "      <th>2</th>\n",
       "      <td>2010-12-50</td>\n",
       "      <td>157227.370</td>\n",
       "      <td>208040.570</td>\n",
       "      <td>-50813.200</td>\n",
       "    </tr>\n",
       "    <tr>\n",
       "      <th>3</th>\n",
       "      <td>2010-12-51</td>\n",
       "      <td>43530.330</td>\n",
       "      <td>157227.370</td>\n",
       "      <td>-113697.040</td>\n",
       "    </tr>\n",
       "    <tr>\n",
       "      <th>4</th>\n",
       "      <td>2011-1-1</td>\n",
       "      <td>108968.860</td>\n",
       "      <td>43530.330</td>\n",
       "      <td>65438.530</td>\n",
       "    </tr>\n",
       "    <tr>\n",
       "      <th>5</th>\n",
       "      <td>2011-1-2</td>\n",
       "      <td>152375.610</td>\n",
       "      <td>108968.860</td>\n",
       "      <td>43406.750</td>\n",
       "    </tr>\n",
       "    <tr>\n",
       "      <th>...</th>\n",
       "      <td>...</td>\n",
       "      <td>...</td>\n",
       "      <td>...</td>\n",
       "      <td>...</td>\n",
       "    </tr>\n",
       "    <tr>\n",
       "      <th>58</th>\n",
       "      <td>2011-9-35</td>\n",
       "      <td>83920.630</td>\n",
       "      <td>19886.970</td>\n",
       "      <td>64033.660</td>\n",
       "    </tr>\n",
       "    <tr>\n",
       "      <th>59</th>\n",
       "      <td>2011-9-36</td>\n",
       "      <td>164930.550</td>\n",
       "      <td>83920.630</td>\n",
       "      <td>81009.920</td>\n",
       "    </tr>\n",
       "    <tr>\n",
       "      <th>60</th>\n",
       "      <td>2011-9-37</td>\n",
       "      <td>205208.970</td>\n",
       "      <td>164930.550</td>\n",
       "      <td>40278.420</td>\n",
       "    </tr>\n",
       "    <tr>\n",
       "      <th>61</th>\n",
       "      <td>2011-9-38</td>\n",
       "      <td>299886.361</td>\n",
       "      <td>205208.970</td>\n",
       "      <td>94677.391</td>\n",
       "    </tr>\n",
       "    <tr>\n",
       "      <th>62</th>\n",
       "      <td>2011-9-39</td>\n",
       "      <td>177493.861</td>\n",
       "      <td>299886.361</td>\n",
       "      <td>-122392.500</td>\n",
       "    </tr>\n",
       "  </tbody>\n",
       "</table>\n",
       "<p>62 rows × 4 columns</p>\n",
       "</div>"
      ],
      "text/plain": [
       "          date        sale  previous_sale        diff\n",
       "1   2010-12-49  208040.570     145805.750   62234.820\n",
       "2   2010-12-50  157227.370     208040.570  -50813.200\n",
       "3   2010-12-51   43530.330     157227.370 -113697.040\n",
       "4     2011-1-1  108968.860      43530.330   65438.530\n",
       "5     2011-1-2  152375.610     108968.860   43406.750\n",
       "..         ...         ...            ...         ...\n",
       "58   2011-9-35   83920.630      19886.970   64033.660\n",
       "59   2011-9-36  164930.550      83920.630   81009.920\n",
       "60   2011-9-37  205208.970     164930.550   40278.420\n",
       "61   2011-9-38  299886.361     205208.970   94677.391\n",
       "62   2011-9-39  177493.861     299886.361 -122392.500\n",
       "\n",
       "[62 rows x 4 columns]"
      ]
     },
     "execution_count": 20,
     "metadata": {},
     "output_type": "execute_result"
    }
   ],
   "source": [
    "sales_diff"
   ]
  },
  {
   "cell_type": "code",
   "execution_count": 21,
   "metadata": {},
   "outputs": [
    {
     "data": {
      "text/plain": [
       "<matplotlib.axes._subplots.AxesSubplot at 0x1faa80def10>"
      ]
     },
     "execution_count": 21,
     "metadata": {},
     "output_type": "execute_result"
    },
    {
     "data": {
      "image/png": "[encoded data removed]",
      "text/plain": [
       "<Figure size 1080x720 with 1 Axes>"
      ]
     },
     "metadata": {
      "needs_background": "light"
     },
     "output_type": "display_data"
    }
   ],
   "source": [
    "plt.figure(figsize=(15,10))\n",
    "sns.lineplot(x='date', y='diff', data=sales_diff)"
   ]
  },
  {
   "cell_type": "code",
   "execution_count": 22,
   "metadata": {},
   "outputs": [
    {
     "data": {
      "text/html": [
       "<div>\n",
       "<style scoped>\n",
       "    .dataframe tbody tr th:only-of-type {\n",
       "        vertical-align: middle;\n",
       "    }\n",
       "\n",
       "    .dataframe tbody tr th {\n",
       "        vertical-align: top;\n",
       "    }\n",
       "\n",
       "    .dataframe thead th {\n",
       "        text-align: right;\n",
       "    }\n",
       "</style>\n",
       "<table border=\"1\" class=\"dataframe\">\n",
       "  <thead>\n",
       "    <tr style=\"text-align: right;\">\n",
       "      <th></th>\n",
       "      <th>date</th>\n",
       "      <th>sale</th>\n",
       "      <th>previous_sale</th>\n",
       "      <th>diff</th>\n",
       "    </tr>\n",
       "  </thead>\n",
       "  <tbody>\n",
       "    <tr>\n",
       "      <th>1</th>\n",
       "      <td>2010-12-49</td>\n",
       "      <td>208040.570</td>\n",
       "      <td>145805.750</td>\n",
       "      <td>62234.820</td>\n",
       "    </tr>\n",
       "    <tr>\n",
       "      <th>2</th>\n",
       "      <td>2010-12-50</td>\n",
       "      <td>157227.370</td>\n",
       "      <td>208040.570</td>\n",
       "      <td>-50813.200</td>\n",
       "    </tr>\n",
       "    <tr>\n",
       "      <th>3</th>\n",
       "      <td>2010-12-51</td>\n",
       "      <td>43530.330</td>\n",
       "      <td>157227.370</td>\n",
       "      <td>-113697.040</td>\n",
       "    </tr>\n",
       "    <tr>\n",
       "      <th>4</th>\n",
       "      <td>2011-1-1</td>\n",
       "      <td>108968.860</td>\n",
       "      <td>43530.330</td>\n",
       "      <td>65438.530</td>\n",
       "    </tr>\n",
       "    <tr>\n",
       "      <th>5</th>\n",
       "      <td>2011-1-2</td>\n",
       "      <td>152375.610</td>\n",
       "      <td>108968.860</td>\n",
       "      <td>43406.750</td>\n",
       "    </tr>\n",
       "    <tr>\n",
       "      <th>...</th>\n",
       "      <td>...</td>\n",
       "      <td>...</td>\n",
       "      <td>...</td>\n",
       "      <td>...</td>\n",
       "    </tr>\n",
       "    <tr>\n",
       "      <th>58</th>\n",
       "      <td>2011-9-35</td>\n",
       "      <td>83920.630</td>\n",
       "      <td>19886.970</td>\n",
       "      <td>64033.660</td>\n",
       "    </tr>\n",
       "    <tr>\n",
       "      <th>59</th>\n",
       "      <td>2011-9-36</td>\n",
       "      <td>164930.550</td>\n",
       "      <td>83920.630</td>\n",
       "      <td>81009.920</td>\n",
       "    </tr>\n",
       "    <tr>\n",
       "      <th>60</th>\n",
       "      <td>2011-9-37</td>\n",
       "      <td>205208.970</td>\n",
       "      <td>164930.550</td>\n",
       "      <td>40278.420</td>\n",
       "    </tr>\n",
       "    <tr>\n",
       "      <th>61</th>\n",
       "      <td>2011-9-38</td>\n",
       "      <td>299886.361</td>\n",
       "      <td>205208.970</td>\n",
       "      <td>94677.391</td>\n",
       "    </tr>\n",
       "    <tr>\n",
       "      <th>62</th>\n",
       "      <td>2011-9-39</td>\n",
       "      <td>177493.861</td>\n",
       "      <td>299886.361</td>\n",
       "      <td>-122392.500</td>\n",
       "    </tr>\n",
       "  </tbody>\n",
       "</table>\n",
       "<p>62 rows × 4 columns</p>\n",
       "</div>"
      ],
      "text/plain": [
       "          date        sale  previous_sale        diff\n",
       "1   2010-12-49  208040.570     145805.750   62234.820\n",
       "2   2010-12-50  157227.370     208040.570  -50813.200\n",
       "3   2010-12-51   43530.330     157227.370 -113697.040\n",
       "4     2011-1-1  108968.860      43530.330   65438.530\n",
       "5     2011-1-2  152375.610     108968.860   43406.750\n",
       "..         ...         ...            ...         ...\n",
       "58   2011-9-35   83920.630      19886.970   64033.660\n",
       "59   2011-9-36  164930.550      83920.630   81009.920\n",
       "60   2011-9-37  205208.970     164930.550   40278.420\n",
       "61   2011-9-38  299886.361     205208.970   94677.391\n",
       "62   2011-9-39  177493.861     299886.361 -122392.500\n",
       "\n",
       "[62 rows x 4 columns]"
      ]
     },
     "execution_count": 22,
     "metadata": {},
     "output_type": "execute_result"
    }
   ],
   "source": [
    "sales_diff"
   ]
  },
  {
   "cell_type": "code",
   "execution_count": 23,
   "metadata": {},
   "outputs": [],
   "source": [
    "df_supervised = sales_diff.drop(['previous_sale'],axis=1)\n",
    "for inc in range(1,7):\n",
    "    field_name = 'lag_' + str(inc)\n",
    "    df_supervised[field_name] = df_supervised['diff'].shift(inc)\n",
    "df_supervised = df_supervised.dropna().reset_index(drop=True)"
   ]
  },
  {
   "cell_type": "code",
   "execution_count": 24,
   "metadata": {},
   "outputs": [
    {
     "data": {
      "text/html": [
       "<div>\n",
       "<style scoped>\n",
       "    .dataframe tbody tr th:only-of-type {\n",
       "        vertical-align: middle;\n",
       "    }\n",
       "\n",
       "    .dataframe tbody tr th {\n",
       "        vertical-align: top;\n",
       "    }\n",
       "\n",
       "    .dataframe thead th {\n",
       "        text-align: right;\n",
       "    }\n",
       "</style>\n",
       "<table border=\"1\" class=\"dataframe\">\n",
       "  <thead>\n",
       "    <tr style=\"text-align: right;\">\n",
       "      <th></th>\n",
       "      <th>date</th>\n",
       "      <th>sale</th>\n",
       "      <th>diff</th>\n",
       "      <th>lag_1</th>\n",
       "      <th>lag_2</th>\n",
       "      <th>lag_3</th>\n",
       "      <th>lag_4</th>\n",
       "      <th>lag_5</th>\n",
       "      <th>lag_6</th>\n",
       "    </tr>\n",
       "  </thead>\n",
       "  <tbody>\n",
       "    <tr>\n",
       "      <th>0</th>\n",
       "      <td>2011-1-4</td>\n",
       "      <td>99270.78</td>\n",
       "      <td>2354.02</td>\n",
       "      <td>-55458.85</td>\n",
       "      <td>43406.75</td>\n",
       "      <td>65438.53</td>\n",
       "      <td>-113697.04</td>\n",
       "      <td>-50813.20</td>\n",
       "      <td>62234.82</td>\n",
       "    </tr>\n",
       "    <tr>\n",
       "      <th>1</th>\n",
       "      <td>2011-1-5</td>\n",
       "      <td>17542.37</td>\n",
       "      <td>-81728.41</td>\n",
       "      <td>2354.02</td>\n",
       "      <td>-55458.85</td>\n",
       "      <td>43406.75</td>\n",
       "      <td>65438.53</td>\n",
       "      <td>-113697.04</td>\n",
       "      <td>-50813.20</td>\n",
       "    </tr>\n",
       "    <tr>\n",
       "      <th>2</th>\n",
       "      <td>2011-10-39</td>\n",
       "      <td>11572.00</td>\n",
       "      <td>-5970.37</td>\n",
       "      <td>-81728.41</td>\n",
       "      <td>2354.02</td>\n",
       "      <td>-55458.85</td>\n",
       "      <td>43406.75</td>\n",
       "      <td>65438.53</td>\n",
       "      <td>-113697.04</td>\n",
       "    </tr>\n",
       "    <tr>\n",
       "      <th>3</th>\n",
       "      <td>2011-10-40</td>\n",
       "      <td>285549.58</td>\n",
       "      <td>273977.58</td>\n",
       "      <td>-5970.37</td>\n",
       "      <td>-81728.41</td>\n",
       "      <td>2354.02</td>\n",
       "      <td>-55458.85</td>\n",
       "      <td>43406.75</td>\n",
       "      <td>65438.53</td>\n",
       "    </tr>\n",
       "    <tr>\n",
       "      <th>4</th>\n",
       "      <td>2011-10-41</td>\n",
       "      <td>183502.98</td>\n",
       "      <td>-102046.60</td>\n",
       "      <td>273977.58</td>\n",
       "      <td>-5970.37</td>\n",
       "      <td>-81728.41</td>\n",
       "      <td>2354.02</td>\n",
       "      <td>-55458.85</td>\n",
       "      <td>43406.75</td>\n",
       "    </tr>\n",
       "  </tbody>\n",
       "</table>\n",
       "</div>"
      ],
      "text/plain": [
       "         date       sale       diff      lag_1     lag_2     lag_3      lag_4  \\\n",
       "0    2011-1-4   99270.78    2354.02  -55458.85  43406.75  65438.53 -113697.04   \n",
       "1    2011-1-5   17542.37  -81728.41    2354.02 -55458.85  43406.75   65438.53   \n",
       "2  2011-10-39   11572.00   -5970.37  -81728.41   2354.02 -55458.85   43406.75   \n",
       "3  2011-10-40  285549.58  273977.58   -5970.37 -81728.41   2354.02  -55458.85   \n",
       "4  2011-10-41  183502.98 -102046.60  273977.58  -5970.37 -81728.41    2354.02   \n",
       "\n",
       "       lag_5      lag_6  \n",
       "0  -50813.20   62234.82  \n",
       "1 -113697.04  -50813.20  \n",
       "2   65438.53 -113697.04  \n",
       "3   43406.75   65438.53  \n",
       "4  -55458.85   43406.75  "
      ]
     },
     "execution_count": 24,
     "metadata": {},
     "output_type": "execute_result"
    }
   ],
   "source": [
    "df_supervised.head()"
   ]
  },
  {
   "cell_type": "code",
   "execution_count": 25,
   "metadata": {},
   "outputs": [
    {
     "data": {
      "text/plain": [
       "(56, 9)"
      ]
     },
     "execution_count": 25,
     "metadata": {},
     "output_type": "execute_result"
    }
   ],
   "source": [
    "df_supervised.shape"
   ]
  },
  {
   "cell_type": "code",
   "execution_count": 26,
   "metadata": {},
   "outputs": [],
   "source": [
    "import statsmodels.formula.api as smf"
   ]
  },
  {
   "cell_type": "code",
   "execution_count": 27,
   "metadata": {},
   "outputs": [],
   "source": [
    "model = smf.ols(formula='diff ~ lag_1', data=df_supervised)\n",
    "\n",
    "model_fit = model.fit()\n",
    "\n",
    "reg_adj_rsq = model_fit.rsquared_adj"
   ]
  },
  {
   "cell_type": "code",
   "execution_count": 28,
   "metadata": {},
   "outputs": [
    {
     "data": {
      "text/plain": [
       "0.051282091132656915"
      ]
     },
     "execution_count": 28,
     "metadata": {},
     "output_type": "execute_result"
    }
   ],
   "source": [
    "reg_adj_rsq"
   ]
  },
  {
   "cell_type": "code",
   "execution_count": 29,
   "metadata": {},
   "outputs": [
    {
     "name": "stdout",
     "output_type": "stream",
     "text": [
      "0.3605388471695241\n"
     ]
    }
   ],
   "source": [
    "model = smf.ols(formula='diff ~ lag_1 + lag_2 + lag_3 + lag_4 + lag_5 + lag_6', data=df_supervised)\n",
    "\n",
    "# Fit the regression\n",
    "model_fit = model.fit()\n",
    "\n",
    "# Extract the adjusted r-squared\n",
    "regression_adj_rsq = model_fit.rsquared_adj\n",
    "print(regression_adj_rsq)"
   ]
  },
  {
   "cell_type": "code",
   "execution_count": 30,
   "metadata": {},
   "outputs": [],
   "source": [
    "data = df_supervised.drop(['sale', 'date'], axis=1)"
   ]
  },
  {
   "cell_type": "code",
   "execution_count": 31,
   "metadata": {
    "scrolled": true
   },
   "outputs": [
    {
     "data": {
      "text/html": [
       "<div>\n",
       "<style scoped>\n",
       "    .dataframe tbody tr th:only-of-type {\n",
       "        vertical-align: middle;\n",
       "    }\n",
       "\n",
       "    .dataframe tbody tr th {\n",
       "        vertical-align: top;\n",
       "    }\n",
       "\n",
       "    .dataframe thead th {\n",
       "        text-align: right;\n",
       "    }\n",
       "</style>\n",
       "<table border=\"1\" class=\"dataframe\">\n",
       "  <thead>\n",
       "    <tr style=\"text-align: right;\">\n",
       "      <th></th>\n",
       "      <th>diff</th>\n",
       "      <th>lag_1</th>\n",
       "      <th>lag_2</th>\n",
       "      <th>lag_3</th>\n",
       "      <th>lag_4</th>\n",
       "      <th>lag_5</th>\n",
       "      <th>lag_6</th>\n",
       "    </tr>\n",
       "  </thead>\n",
       "  <tbody>\n",
       "    <tr>\n",
       "      <th>0</th>\n",
       "      <td>2354.02</td>\n",
       "      <td>-55458.85</td>\n",
       "      <td>43406.75</td>\n",
       "      <td>65438.53</td>\n",
       "      <td>-113697.04</td>\n",
       "      <td>-50813.20</td>\n",
       "      <td>62234.82</td>\n",
       "    </tr>\n",
       "    <tr>\n",
       "      <th>1</th>\n",
       "      <td>-81728.41</td>\n",
       "      <td>2354.02</td>\n",
       "      <td>-55458.85</td>\n",
       "      <td>43406.75</td>\n",
       "      <td>65438.53</td>\n",
       "      <td>-113697.04</td>\n",
       "      <td>-50813.20</td>\n",
       "    </tr>\n",
       "    <tr>\n",
       "      <th>2</th>\n",
       "      <td>-5970.37</td>\n",
       "      <td>-81728.41</td>\n",
       "      <td>2354.02</td>\n",
       "      <td>-55458.85</td>\n",
       "      <td>43406.75</td>\n",
       "      <td>65438.53</td>\n",
       "      <td>-113697.04</td>\n",
       "    </tr>\n",
       "    <tr>\n",
       "      <th>3</th>\n",
       "      <td>273977.58</td>\n",
       "      <td>-5970.37</td>\n",
       "      <td>-81728.41</td>\n",
       "      <td>2354.02</td>\n",
       "      <td>-55458.85</td>\n",
       "      <td>43406.75</td>\n",
       "      <td>65438.53</td>\n",
       "    </tr>\n",
       "    <tr>\n",
       "      <th>4</th>\n",
       "      <td>-102046.60</td>\n",
       "      <td>273977.58</td>\n",
       "      <td>-5970.37</td>\n",
       "      <td>-81728.41</td>\n",
       "      <td>2354.02</td>\n",
       "      <td>-55458.85</td>\n",
       "      <td>43406.75</td>\n",
       "    </tr>\n",
       "  </tbody>\n",
       "</table>\n",
       "</div>"
      ],
      "text/plain": [
       "        diff      lag_1     lag_2     lag_3      lag_4      lag_5      lag_6\n",
       "0    2354.02  -55458.85  43406.75  65438.53 -113697.04  -50813.20   62234.82\n",
       "1  -81728.41    2354.02 -55458.85  43406.75   65438.53 -113697.04  -50813.20\n",
       "2   -5970.37  -81728.41   2354.02 -55458.85   43406.75   65438.53 -113697.04\n",
       "3  273977.58   -5970.37 -81728.41   2354.02  -55458.85   43406.75   65438.53\n",
       "4 -102046.60  273977.58  -5970.37 -81728.41    2354.02  -55458.85   43406.75"
      ]
     },
     "execution_count": 31,
     "metadata": {},
     "output_type": "execute_result"
    }
   ],
   "source": [
    "data.head()"
   ]
  },
  {
   "cell_type": "code",
   "execution_count": 32,
   "metadata": {},
   "outputs": [],
   "source": [
    "train_set = data[0:-10].values"
   ]
  },
  {
   "cell_type": "code",
   "execution_count": 33,
   "metadata": {},
   "outputs": [],
   "source": [
    "test_set = data[-10:].values"
   ]
  },
  {
   "cell_type": "code",
   "execution_count": 34,
   "metadata": {},
   "outputs": [],
   "source": [
    "scaler = MinMaxScaler(feature_range=(-1,1))\n",
    "train_set_scaled = scaler.fit_transform(train_set)"
   ]
  },
  {
   "cell_type": "code",
   "execution_count": 35,
   "metadata": {},
   "outputs": [
    {
     "data": {
      "text/plain": [
       "array([[-0.17925163, -0.43024576, -0.00102151,  0.0946293 , -0.68308642,\n",
       "        -0.41007671,  0.08072041],\n",
       "       [-0.54429486, -0.17925163, -0.43024576, -0.00102151,  0.0946293 ,\n",
       "        -0.68308642, -0.41007671],\n",
       "       [-0.2153919 , -0.54429486, -0.17925163, -0.43024576, -0.00102151,\n",
       "         0.0946293 , -0.68308642],\n",
       "       [ 1.        , -0.2153919 , -0.54429486, -0.17925163, -0.43024576,\n",
       "        -0.00102151,  0.0946293 ],\n",
       "       [-0.63250613,  1.        , -0.2153919 , -0.54429486, -0.17925163,\n",
       "        -0.43024576, -0.00102151]])"
      ]
     },
     "execution_count": 35,
     "metadata": {},
     "output_type": "execute_result"
    }
   ],
   "source": [
    "train_set_scaled[:5]"
   ]
  },
  {
   "cell_type": "code",
   "execution_count": 36,
   "metadata": {},
   "outputs": [],
   "source": [
    "test_set_scaled = scaler.transform(test_set)"
   ]
  },
  {
   "cell_type": "code",
   "execution_count": 37,
   "metadata": {},
   "outputs": [
    {
     "data": {
      "text/plain": [
       "array([[-0.24524457, -0.12881021, -0.04779966, -0.24381413,  0.29269126,\n",
       "        -0.5322127 , -0.2434791 ],\n",
       "       [-0.24588212, -0.24524457, -0.12881021, -0.04779966, -0.24381413,\n",
       "         0.29269126, -0.5322127 ],\n",
       "       [-0.06948159, -0.24588212, -0.24524457, -0.12881021, -0.04779966,\n",
       "        -0.24381413,  0.29269126],\n",
       "       [-0.27486301, -0.06948159, -0.24588212, -0.24524457, -0.12881021,\n",
       "        -0.04779966, -0.24381413],\n",
       "       [-0.73238572, -0.27486301, -0.06948159, -0.24588212, -0.24524457,\n",
       "        -0.12881021, -0.04779966]])"
      ]
     },
     "execution_count": 37,
     "metadata": {},
     "output_type": "execute_result"
    }
   ],
   "source": [
    "test_set_scaled[:5]"
   ]
  },
  {
   "cell_type": "code",
   "execution_count": 38,
   "metadata": {},
   "outputs": [
    {
     "data": {
      "text/plain": [
       "(46, 7)"
      ]
     },
     "execution_count": 38,
     "metadata": {},
     "output_type": "execute_result"
    }
   ],
   "source": [
    "train_set_scaled.shape"
   ]
  },
  {
   "cell_type": "code",
   "execution_count": 39,
   "metadata": {},
   "outputs": [],
   "source": [
    "X_train, y_train = train_set_scaled[:,1:], train_set_scaled[:,0:1]\n",
    "X_train = X_train.reshape(X_train.shape[0], 1, X_train.shape[1])"
   ]
  },
  {
   "cell_type": "code",
   "execution_count": 40,
   "metadata": {
    "scrolled": true
   },
   "outputs": [],
   "source": [
    "X_test, y_test = test_set_scaled[:,1:], test_set_scaled[:,0:1]\n",
    "X_test = X_test.reshape(X_test.shape[0], 1, X_test.shape[1])"
   ]
  },
  {
   "cell_type": "code",
   "execution_count": 41,
   "metadata": {
    "scrolled": true
   },
   "outputs": [
    {
     "name": "stdout",
     "output_type": "stream",
     "text": [
      "Epoch 1/100\n",
      "36/36 [==============================] - 1s 17ms/step - loss: 0.1662 - val_loss: 0.0680\n",
      "Epoch 2/100\n",
      "36/36 [==============================] - 0s 7ms/step - loss: 0.1612 - val_loss: 0.0636\n",
      "Epoch 3/100\n",
      "36/36 [==============================] - 0s 6ms/step - loss: 0.1576 - val_loss: 0.0609\n",
      "Epoch 4/100\n",
      "36/36 [==============================] - 0s 5ms/step - loss: 0.1546 - val_loss: 0.0590\n",
      "Epoch 5/100\n",
      "36/36 [==============================] - 0s 5ms/step - loss: 0.1519 - val_loss: 0.0576\n",
      "Epoch 6/100\n",
      "36/36 [==============================] - 0s 6ms/step - loss: 0.1493 - val_loss: 0.0564\n",
      "Epoch 7/100\n",
      "36/36 [==============================] - 0s 5ms/step - loss: 0.1468 - val_loss: 0.0553\n",
      "Epoch 8/100\n",
      "36/36 [==============================] - 0s 5ms/step - loss: 0.1444 - val_loss: 0.0543\n",
      "Epoch 9/100\n",
      "36/36 [==============================] - 0s 5ms/step - loss: 0.1421 - val_loss: 0.0533\n",
      "Epoch 10/100\n",
      "36/36 [==============================] - 0s 6ms/step - loss: 0.1399 - val_loss: 0.0524\n",
      "Epoch 11/100\n",
      "36/36 [==============================] - 0s 6ms/step - loss: 0.1378 - val_loss: 0.0515\n",
      "Epoch 12/100\n",
      "36/36 [==============================] - 0s 5ms/step - loss: 0.1357 - val_loss: 0.0506\n",
      "Epoch 13/100\n",
      "36/36 [==============================] - 0s 5ms/step - loss: 0.1337 - val_loss: 0.0497\n",
      "Epoch 14/100\n",
      "36/36 [==============================] - 0s 5ms/step - loss: 0.1317 - val_loss: 0.0488\n",
      "Epoch 15/100\n",
      "36/36 [==============================] - 0s 5ms/step - loss: 0.1297 - val_loss: 0.0480\n",
      "Epoch 16/100\n",
      "36/36 [==============================] - 0s 5ms/step - loss: 0.1278 - val_loss: 0.0471\n",
      "Epoch 17/100\n",
      "36/36 [==============================] - 0s 5ms/step - loss: 0.1258 - val_loss: 0.0462\n",
      "Epoch 18/100\n",
      "36/36 [==============================] - 0s 6ms/step - loss: 0.1240 - val_loss: 0.0453\n",
      "Epoch 19/100\n",
      "36/36 [==============================] - 0s 6ms/step - loss: 0.1221 - val_loss: 0.0445\n",
      "Epoch 20/100\n",
      "36/36 [==============================] - 0s 6ms/step - loss: 0.1202 - val_loss: 0.0436\n",
      "Epoch 21/100\n",
      "36/36 [==============================] - 0s 6ms/step - loss: 0.1184 - val_loss: 0.0428\n",
      "Epoch 22/100\n",
      "36/36 [==============================] - 0s 6ms/step - loss: 0.1166 - val_loss: 0.0419\n",
      "Epoch 23/100\n",
      "36/36 [==============================] - 0s 6ms/step - loss: 0.1148 - val_loss: 0.0411\n",
      "Epoch 24/100\n",
      "36/36 [==============================] - 0s 6ms/step - loss: 0.1130 - val_loss: 0.0403\n",
      "Epoch 25/100\n",
      "36/36 [==============================] - 0s 7ms/step - loss: 0.1113 - val_loss: 0.0395\n",
      "Epoch 26/100\n",
      "36/36 [==============================] - 0s 6ms/step - loss: 0.1096 - val_loss: 0.0387\n",
      "Epoch 27/100\n",
      "36/36 [==============================] - 0s 6ms/step - loss: 0.1079 - val_loss: 0.0379\n",
      "Epoch 28/100\n",
      "36/36 [==============================] - 0s 6ms/step - loss: 0.1062 - val_loss: 0.0372\n",
      "Epoch 29/100\n",
      "36/36 [==============================] - 0s 6ms/step - loss: 0.1046 - val_loss: 0.0365\n",
      "Epoch 30/100\n",
      "36/36 [==============================] - 0s 5ms/step - loss: 0.1030 - val_loss: 0.0358\n",
      "Epoch 31/100\n",
      "36/36 [==============================] - 0s 5ms/step - loss: 0.1015 - val_loss: 0.0352\n",
      "Epoch 32/100\n",
      "36/36 [==============================] - 0s 5ms/step - loss: 0.1000 - val_loss: 0.0346\n",
      "Epoch 33/100\n",
      "36/36 [==============================] - 0s 5ms/step - loss: 0.0985 - val_loss: 0.0340\n",
      "Epoch 34/100\n",
      "36/36 [==============================] - 0s 5ms/step - loss: 0.0971 - val_loss: 0.0334\n",
      "Epoch 35/100\n",
      "36/36 [==============================] - 0s 5ms/step - loss: 0.0958 - val_loss: 0.0329\n",
      "Epoch 36/100\n",
      "36/36 [==============================] - 0s 5ms/step - loss: 0.0945 - val_loss: 0.0324\n",
      "Epoch 37/100\n",
      "36/36 [==============================] - 0s 5ms/step - loss: 0.0932 - val_loss: 0.0319\n",
      "Epoch 38/100\n",
      "36/36 [==============================] - 0s 5ms/step - loss: 0.0920 - val_loss: 0.0314\n",
      "Epoch 39/100\n",
      "36/36 [==============================] - 0s 5ms/step - loss: 0.0909 - val_loss: 0.0310\n",
      "Epoch 40/100\n",
      "36/36 [==============================] - 0s 5ms/step - loss: 0.0898 - val_loss: 0.0306\n",
      "Epoch 41/100\n",
      "36/36 [==============================] - 0s 5ms/step - loss: 0.0887 - val_loss: 0.0303\n",
      "Epoch 42/100\n",
      "36/36 [==============================] - 0s 5ms/step - loss: 0.0877 - val_loss: 0.0299\n",
      "Epoch 43/100\n",
      "36/36 [==============================] - 0s 5ms/step - loss: 0.0867 - val_loss: 0.0296\n",
      "Epoch 44/100\n",
      "36/36 [==============================] - 0s 5ms/step - loss: 0.0858 - val_loss: 0.0293\n",
      "Epoch 45/100\n",
      "36/36 [==============================] - 0s 5ms/step - loss: 0.0850 - val_loss: 0.0291\n",
      "Epoch 46/100\n",
      "36/36 [==============================] - 0s 5ms/step - loss: 0.0841 - val_loss: 0.0288\n",
      "Epoch 47/100\n",
      "36/36 [==============================] - 0s 5ms/step - loss: 0.0833 - val_loss: 0.0286\n",
      "Epoch 48/100\n",
      "36/36 [==============================] - 0s 5ms/step - loss: 0.0826 - val_loss: 0.0284\n",
      "Epoch 49/100\n",
      "36/36 [==============================] - 0s 5ms/step - loss: 0.0819 - val_loss: 0.0283\n",
      "Epoch 50/100\n",
      "36/36 [==============================] - 0s 5ms/step - loss: 0.0812 - val_loss: 0.0281\n",
      "Epoch 51/100\n",
      "36/36 [==============================] - 0s 5ms/step - loss: 0.0805 - val_loss: 0.0279\n",
      "Epoch 52/100\n",
      "36/36 [==============================] - 0s 5ms/step - loss: 0.0799 - val_loss: 0.0278\n",
      "Epoch 53/100\n",
      "36/36 [==============================] - 0s 5ms/step - loss: 0.0793 - val_loss: 0.0277\n",
      "Epoch 54/100\n",
      "36/36 [==============================] - 0s 5ms/step - loss: 0.0787 - val_loss: 0.0276\n",
      "Epoch 55/100\n",
      "36/36 [==============================] - 0s 5ms/step - loss: 0.0781 - val_loss: 0.0275\n",
      "Epoch 56/100\n",
      "36/36 [==============================] - 0s 5ms/step - loss: 0.0775 - val_loss: 0.0274\n",
      "Epoch 57/100\n",
      "36/36 [==============================] - 0s 5ms/step - loss: 0.0770 - val_loss: 0.0274\n",
      "Epoch 58/100\n",
      "36/36 [==============================] - 0s 5ms/step - loss: 0.0764 - val_loss: 0.0273\n",
      "Epoch 59/100\n",
      "36/36 [==============================] - 0s 6ms/step - loss: 0.0759 - val_loss: 0.0272\n",
      "Epoch 60/100\n",
      "36/36 [==============================] - 0s 5ms/step - loss: 0.0754 - val_loss: 0.0272\n",
      "Epoch 61/100\n",
      "36/36 [==============================] - 0s 6ms/step - loss: 0.0749 - val_loss: 0.0272\n",
      "Epoch 62/100\n",
      "36/36 [==============================] - 0s 5ms/step - loss: 0.0744 - val_loss: 0.0271\n",
      "Epoch 63/100\n",
      "36/36 [==============================] - 0s 5ms/step - loss: 0.0739 - val_loss: 0.0271\n",
      "Epoch 64/100\n",
      "36/36 [==============================] - 0s 5ms/step - loss: 0.0735 - val_loss: 0.0271\n",
      "Epoch 65/100\n",
      "36/36 [==============================] - 0s 6ms/step - loss: 0.0730 - val_loss: 0.0271\n",
      "Epoch 66/100\n",
      "36/36 [==============================] - 0s 6ms/step - loss: 0.0725 - val_loss: 0.0271\n",
      "Epoch 67/100\n",
      "36/36 [==============================] - 0s 5ms/step - loss: 0.0720 - val_loss: 0.0271\n",
      "Epoch 68/100\n",
      "36/36 [==============================] - 0s 5ms/step - loss: 0.0716 - val_loss: 0.0271\n",
      "Epoch 69/100\n",
      "36/36 [==============================] - 0s 5ms/step - loss: 0.0711 - val_loss: 0.0271\n",
      "Epoch 70/100\n",
      "36/36 [==============================] - 0s 5ms/step - loss: 0.0707 - val_loss: 0.0272\n",
      "Epoch 71/100\n",
      "36/36 [==============================] - 0s 5ms/step - loss: 0.0702 - val_loss: 0.0272\n",
      "Epoch 72/100\n",
      "36/36 [==============================] - 0s 6ms/step - loss: 0.0697 - val_loss: 0.0272\n",
      "Epoch 73/100\n",
      "36/36 [==============================] - 0s 6ms/step - loss: 0.0693 - val_loss: 0.0273\n",
      "Epoch 74/100\n",
      "36/36 [==============================] - 0s 6ms/step - loss: 0.0688 - val_loss: 0.0273\n",
      "Epoch 75/100\n",
      "36/36 [==============================] - 0s 5ms/step - loss: 0.0684 - val_loss: 0.0274\n",
      "Epoch 76/100\n",
      "36/36 [==============================] - 0s 6ms/step - loss: 0.0679 - val_loss: 0.0275\n",
      "Epoch 77/100\n",
      "36/36 [==============================] - 0s 5ms/step - loss: 0.0675 - val_loss: 0.0275\n",
      "Epoch 78/100\n",
      "36/36 [==============================] - 0s 5ms/step - loss: 0.0670 - val_loss: 0.0276\n",
      "Epoch 79/100\n",
      "36/36 [==============================] - 0s 6ms/step - loss: 0.0666 - val_loss: 0.0277\n",
      "Epoch 80/100\n",
      "36/36 [==============================] - 0s 6ms/step - loss: 0.0661 - val_loss: 0.0278\n",
      "Epoch 81/100\n",
      "36/36 [==============================] - 0s 5ms/step - loss: 0.0657 - val_loss: 0.0279\n",
      "Epoch 82/100\n",
      "36/36 [==============================] - 0s 6ms/step - loss: 0.0652 - val_loss: 0.0280\n",
      "Epoch 83/100\n"
     ]
    },
    {
     "name": "stdout",
     "output_type": "stream",
     "text": [
      "36/36 [==============================] - 0s 6ms/step - loss: 0.0648 - val_loss: 0.0281\n",
      "Epoch 84/100\n",
      "36/36 [==============================] - 0s 6ms/step - loss: 0.0643 - val_loss: 0.0282\n",
      "Epoch 85/100\n",
      "36/36 [==============================] - 0s 6ms/step - loss: 0.0639 - val_loss: 0.0283\n",
      "Epoch 86/100\n",
      "36/36 [==============================] - 0s 5ms/step - loss: 0.0634 - val_loss: 0.0285\n",
      "Epoch 87/100\n",
      "36/36 [==============================] - 0s 7ms/step - loss: 0.0630 - val_loss: 0.0286\n",
      "Epoch 88/100\n",
      "36/36 [==============================] - 0s 6ms/step - loss: 0.0625 - val_loss: 0.0287\n",
      "Epoch 89/100\n",
      "36/36 [==============================] - 0s 5ms/step - loss: 0.0621 - val_loss: 0.0289\n",
      "Epoch 90/100\n",
      "36/36 [==============================] - 0s 5ms/step - loss: 0.0616 - val_loss: 0.0290\n",
      "Epoch 91/100\n",
      "36/36 [==============================] - 0s 5ms/step - loss: 0.0612 - val_loss: 0.0292\n",
      "Epoch 92/100\n",
      "36/36 [==============================] - 0s 5ms/step - loss: 0.0607 - val_loss: 0.0294\n",
      "Epoch 93/100\n",
      "36/36 [==============================] - 0s 5ms/step - loss: 0.0603 - val_loss: 0.0295\n",
      "Epoch 94/100\n",
      "36/36 [==============================] - 0s 5ms/step - loss: 0.0599 - val_loss: 0.0297\n",
      "Epoch 95/100\n",
      "36/36 [==============================] - 0s 6ms/step - loss: 0.0594 - val_loss: 0.0299\n",
      "Epoch 96/100\n",
      "36/36 [==============================] - 0s 6ms/step - loss: 0.0590 - val_loss: 0.0301\n",
      "Epoch 97/100\n",
      "36/36 [==============================] - 0s 6ms/step - loss: 0.0586 - val_loss: 0.0303\n",
      "Epoch 98/100\n",
      "36/36 [==============================] - 0s 6ms/step - loss: 0.0581 - val_loss: 0.0305\n",
      "Epoch 99/100\n",
      "36/36 [==============================] - 0s 6ms/step - loss: 0.0577 - val_loss: 0.0307\n",
      "Epoch 100/100\n",
      "36/36 [==============================] - 0s 6ms/step - loss: 0.0573 - val_loss: 0.0309\n"
     ]
    },
    {
     "data": {
      "text/plain": [
       "<tensorflow.python.keras.callbacks.History at 0x1faa8f455e0>"
      ]
     },
     "execution_count": 41,
     "metadata": {},
     "output_type": "execute_result"
    }
   ],
   "source": [
    "model = Sequential()\n",
    "model.add(LSTM(4, batch_input_shape=(1, X_train.shape[1], X_train.shape[2]), stateful=True))\n",
    "model.add(Dense(1))\n",
    "          \n",
    "model.compile(loss='mean_squared_error', optimizer='adam')\n",
    "model.fit(X_train, y_train, epochs=100, batch_size=1, verbose=1, shuffle=False, validation_split=0.2)"
   ]
  },
  {
   "cell_type": "code",
   "execution_count": 42,
   "metadata": {},
   "outputs": [
    {
     "name": "stdout",
     "output_type": "stream",
     "text": [
      "Saved model to disk\n"
     ]
    }
   ],
   "source": [
    "model.save_weights('Sale_weights.h5')\n",
    "print('Saved model to disk')"
   ]
  },
  {
   "cell_type": "code",
   "execution_count": 43,
   "metadata": {},
   "outputs": [
    {
     "name": "stdout",
     "output_type": "stream",
     "text": [
      "Weights loaded\n"
     ]
    }
   ],
   "source": [
    "zmodel = Sequential()\n",
    "zmodel.add(LSTM(4, batch_input_shape=(1, X_train.shape[1], X_train.shape[2]), stateful=True))\n",
    "zmodel.add(Dense(1))\n",
    "zmodel.load_weights('Sale_weights.h5')\n",
    "print('Weights loaded')"
   ]
  },
  {
   "cell_type": "code",
   "execution_count": 44,
   "metadata": {
    "scrolled": true
   },
   "outputs": [
    {
     "name": "stdout",
     "output_type": "stream",
     "text": [
      "Epoch 1/50\n",
      "36/36 [==============================] - 1s 17ms/step - loss: 0.0594 - val_loss: 0.0314\n",
      "Epoch 2/50\n",
      "36/36 [==============================] - 0s 6ms/step - loss: 0.0568 - val_loss: 0.0311\n",
      "Epoch 3/50\n",
      "36/36 [==============================] - 0s 6ms/step - loss: 0.0559 - val_loss: 0.0316\n",
      "Epoch 4/50\n",
      "36/36 [==============================] - 0s 6ms/step - loss: 0.0555 - val_loss: 0.0319\n",
      "Epoch 5/50\n",
      "36/36 [==============================] - 0s 6ms/step - loss: 0.0552 - val_loss: 0.0320\n",
      "Epoch 6/50\n",
      "36/36 [==============================] - 0s 6ms/step - loss: 0.0548 - val_loss: 0.0322\n",
      "Epoch 7/50\n",
      "36/36 [==============================] - 0s 5ms/step - loss: 0.0544 - val_loss: 0.0324\n",
      "Epoch 8/50\n",
      "36/36 [==============================] - 0s 5ms/step - loss: 0.0540 - val_loss: 0.0327\n",
      "Epoch 9/50\n",
      "36/36 [==============================] - 0s 6ms/step - loss: 0.0536 - val_loss: 0.0329\n",
      "Epoch 10/50\n",
      "36/36 [==============================] - 0s 5ms/step - loss: 0.0532 - val_loss: 0.0332\n",
      "Epoch 11/50\n",
      "36/36 [==============================] - 0s 6ms/step - loss: 0.0528 - val_loss: 0.0334\n",
      "Epoch 12/50\n",
      "36/36 [==============================] - 0s 6ms/step - loss: 0.0524 - val_loss: 0.0337\n",
      "Epoch 13/50\n",
      "36/36 [==============================] - 0s 5ms/step - loss: 0.0520 - val_loss: 0.0339\n",
      "Epoch 14/50\n",
      "36/36 [==============================] - 0s 6ms/step - loss: 0.0517 - val_loss: 0.0342\n",
      "Epoch 15/50\n",
      "36/36 [==============================] - 0s 5ms/step - loss: 0.0513 - val_loss: 0.0345\n",
      "Epoch 16/50\n",
      "36/36 [==============================] - 0s 5ms/step - loss: 0.0509 - val_loss: 0.0347\n",
      "Epoch 17/50\n",
      "36/36 [==============================] - 0s 6ms/step - loss: 0.0505 - val_loss: 0.0350\n",
      "Epoch 18/50\n",
      "36/36 [==============================] - 0s 6ms/step - loss: 0.0501 - val_loss: 0.0353\n",
      "Epoch 19/50\n",
      "36/36 [==============================] - 0s 5ms/step - loss: 0.0498 - val_loss: 0.0356\n",
      "Epoch 20/50\n",
      "36/36 [==============================] - 0s 5ms/step - loss: 0.0494 - val_loss: 0.0358\n",
      "Epoch 21/50\n",
      "36/36 [==============================] - 0s 5ms/step - loss: 0.0490 - val_loss: 0.0361\n",
      "Epoch 22/50\n",
      "36/36 [==============================] - 0s 5ms/step - loss: 0.0487 - val_loss: 0.0364\n",
      "Epoch 23/50\n",
      "36/36 [==============================] - 0s 5ms/step - loss: 0.0483 - val_loss: 0.0367\n",
      "Epoch 24/50\n",
      "36/36 [==============================] - 0s 5ms/step - loss: 0.0479 - val_loss: 0.0370\n",
      "Epoch 25/50\n",
      "36/36 [==============================] - 0s 4ms/step - loss: 0.0476 - val_loss: 0.0373\n",
      "Epoch 26/50\n",
      "36/36 [==============================] - 0s 5ms/step - loss: 0.0472 - val_loss: 0.0376\n",
      "Epoch 27/50\n",
      "36/36 [==============================] - 0s 5ms/step - loss: 0.0469 - val_loss: 0.0379\n",
      "Epoch 28/50\n",
      "36/36 [==============================] - 0s 5ms/step - loss: 0.0465 - val_loss: 0.0382\n",
      "Epoch 29/50\n",
      "36/36 [==============================] - 0s 5ms/step - loss: 0.0462 - val_loss: 0.0385\n",
      "Epoch 30/50\n",
      "36/36 [==============================] - 0s 5ms/step - loss: 0.0459 - val_loss: 0.0387\n",
      "Epoch 31/50\n",
      "36/36 [==============================] - 0s 4ms/step - loss: 0.0455 - val_loss: 0.0390\n",
      "Epoch 32/50\n",
      "36/36 [==============================] - 0s 5ms/step - loss: 0.0452 - val_loss: 0.0393\n",
      "Epoch 33/50\n",
      "36/36 [==============================] - 0s 5ms/step - loss: 0.0448 - val_loss: 0.0396\n",
      "Epoch 34/50\n",
      "36/36 [==============================] - 0s 5ms/step - loss: 0.0445 - val_loss: 0.0399\n",
      "Epoch 35/50\n",
      "36/36 [==============================] - 0s 5ms/step - loss: 0.0442 - val_loss: 0.0402\n",
      "Epoch 36/50\n",
      "36/36 [==============================] - 0s 6ms/step - loss: 0.0439 - val_loss: 0.0405\n",
      "Epoch 37/50\n",
      "36/36 [==============================] - 0s 6ms/step - loss: 0.0435 - val_loss: 0.0408\n",
      "Epoch 38/50\n",
      "36/36 [==============================] - 0s 6ms/step - loss: 0.0432 - val_loss: 0.0411\n",
      "Epoch 39/50\n",
      "36/36 [==============================] - 0s 5ms/step - loss: 0.0429 - val_loss: 0.0414\n",
      "Epoch 40/50\n",
      "36/36 [==============================] - 0s 6ms/step - loss: 0.0426 - val_loss: 0.0417\n",
      "Epoch 41/50\n",
      "36/36 [==============================] - 0s 6ms/step - loss: 0.0422 - val_loss: 0.0420\n",
      "Epoch 42/50\n",
      "36/36 [==============================] - 0s 6ms/step - loss: 0.0419 - val_loss: 0.0422\n",
      "Epoch 43/50\n",
      "36/36 [==============================] - 0s 5ms/step - loss: 0.0416 - val_loss: 0.0425\n",
      "Epoch 44/50\n",
      "36/36 [==============================] - 0s 5ms/step - loss: 0.0413 - val_loss: 0.0428\n",
      "Epoch 45/50\n",
      "36/36 [==============================] - 0s 5ms/step - loss: 0.0410 - val_loss: 0.0431\n",
      "Epoch 46/50\n",
      "36/36 [==============================] - 0s 5ms/step - loss: 0.0406 - val_loss: 0.0434\n",
      "Epoch 47/50\n",
      "36/36 [==============================] - 0s 5ms/step - loss: 0.0403 - val_loss: 0.0436\n",
      "Epoch 48/50\n",
      "36/36 [==============================] - 0s 6ms/step - loss: 0.0400 - val_loss: 0.0439\n",
      "Epoch 49/50\n",
      "36/36 [==============================] - 0s 6ms/step - loss: 0.0397 - val_loss: 0.0442\n",
      "Epoch 50/50\n",
      "36/36 [==============================] - 0s 6ms/step - loss: 0.0394 - val_loss: 0.0445\n"
     ]
    },
    {
     "data": {
      "text/plain": [
       "<tensorflow.python.keras.callbacks.History at 0x1fce9f4b850>"
      ]
     },
     "execution_count": 44,
     "metadata": {},
     "output_type": "execute_result"
    }
   ],
   "source": [
    "zmodel.compile(loss='mean_squared_error', optimizer='adam')\n",
    "zmodel.fit(X_train, y_train, epochs=50, batch_size=1, verbose=1, shuffle=False, validation_split=0.2)"
   ]
  },
  {
   "cell_type": "code",
   "execution_count": 45,
   "metadata": {},
   "outputs": [
    {
     "name": "stdout",
     "output_type": "stream",
     "text": [
      "2/2 [==============================] - 0s 5ms/step - loss: 0.1960\n"
     ]
    }
   ],
   "source": [
    "score = zmodel.evaluate(X_train, y_train)"
   ]
  },
  {
   "cell_type": "code",
   "execution_count": 46,
   "metadata": {},
   "outputs": [
    {
     "name": "stdout",
     "output_type": "stream",
     "text": [
      "1/1 [==============================] - 0s 1ms/step - loss: 0.2562\n"
     ]
    }
   ],
   "source": [
    "score_test = zmodel.evaluate(X_test, y_test)"
   ]
  },
  {
   "cell_type": "code",
   "execution_count": 47,
   "metadata": {},
   "outputs": [],
   "source": [
    "y_pred = zmodel.predict(X_test, batch_size=1)"
   ]
  },
  {
   "cell_type": "code",
   "execution_count": 48,
   "metadata": {},
   "outputs": [
    {
     "data": {
      "text/plain": [
       "array([[-0.7092314 ],\n",
       "       [-0.4942394 ],\n",
       "       [ 0.03264166],\n",
       "       [-0.1737963 ],\n",
       "       [-0.11195481],\n",
       "       [ 0.15071931],\n",
       "       [ 0.09665769],\n",
       "       [-0.44802096],\n",
       "       [-0.40190142],\n",
       "       [-0.58229   ]], dtype=float32)"
      ]
     },
     "execution_count": 48,
     "metadata": {},
     "output_type": "execute_result"
    }
   ],
   "source": [
    "y_pred"
   ]
  },
  {
   "cell_type": "code",
   "execution_count": 49,
   "metadata": {},
   "outputs": [
    {
     "data": {
      "text/plain": [
       "-2.6414156"
      ]
     },
     "execution_count": 49,
     "metadata": {},
     "output_type": "execute_result"
    }
   ],
   "source": [
    "y_pred.sum()"
   ]
  },
  {
   "cell_type": "code",
   "execution_count": 50,
   "metadata": {},
   "outputs": [
    {
     "data": {
      "text/plain": [
       "array([[-0.24524457],\n",
       "       [-0.24588212],\n",
       "       [-0.06948159],\n",
       "       [-0.27486301],\n",
       "       [-0.73238572],\n",
       "       [ 0.08853006],\n",
       "       [ 0.16223237],\n",
       "       [-0.01460313],\n",
       "       [ 0.22156959],\n",
       "       [-0.7208377 ]])"
      ]
     },
     "execution_count": 50,
     "metadata": {},
     "output_type": "execute_result"
    }
   ],
   "source": [
    "y_test"
   ]
  },
  {
   "cell_type": "code",
   "execution_count": 51,
   "metadata": {},
   "outputs": [
    {
     "data": {
      "text/plain": [
       "-1.830965816217509"
      ]
     },
     "execution_count": 51,
     "metadata": {},
     "output_type": "execute_result"
    }
   ],
   "source": [
    "y_test.sum()"
   ]
  },
  {
   "cell_type": "code",
   "execution_count": 52,
   "metadata": {},
   "outputs": [],
   "source": [
    "y_pred = y_pred.reshape(y_pred.shape[0], 1, y_pred.shape[1])"
   ]
  },
  {
   "cell_type": "code",
   "execution_count": 53,
   "metadata": {},
   "outputs": [
    {
     "name": "stdout",
     "output_type": "stream",
     "text": [
      "[[-0.70923138 -0.12881021 -0.04779966 -0.24381413  0.29269126 -0.5322127\n",
      "  -0.2434791 ]]\n",
      "[[-0.49423939 -0.24524457 -0.12881021 -0.04779966 -0.24381413  0.29269126\n",
      "  -0.5322127 ]]\n",
      "[[ 0.03264166 -0.24588212 -0.24524457 -0.12881021 -0.04779966 -0.24381413\n",
      "   0.29269126]]\n",
      "[[-0.1737963  -0.06948159 -0.24588212 -0.24524457 -0.12881021 -0.04779966\n",
      "  -0.24381413]]\n",
      "[[-0.11195481 -0.27486301 -0.06948159 -0.24588212 -0.24524457 -0.12881021\n",
      "  -0.04779966]]\n",
      "[[ 0.15071931 -0.73238572 -0.27486301 -0.06948159 -0.24588212 -0.24524457\n",
      "  -0.12881021]]\n",
      "[[ 0.09665769  0.08853006 -0.73238572 -0.27486301 -0.06948159 -0.24588212\n",
      "  -0.24524457]]\n",
      "[[-0.44802096  0.16223237  0.08853006 -0.73238572 -0.27486301 -0.06948159\n",
      "  -0.24588212]]\n",
      "[[-0.40190142 -0.01460313  0.16223237  0.08853006 -0.73238572 -0.27486301\n",
      "  -0.06948159]]\n",
      "[[-0.58228999  0.22156959 -0.01460313  0.16223237  0.08853006 -0.73238572\n",
      "  -0.27486301]]\n"
     ]
    }
   ],
   "source": [
    "pred_test_set = []\n",
    "for index in range(0,len(y_pred)):\n",
    "    print(np.concatenate([y_pred[index],X_test[index]],axis=1))\n",
    "    pred_test_set.append(np.concatenate([y_pred[index],X_test[index]],axis=1))  "
   ]
  },
  {
   "cell_type": "code",
   "execution_count": 54,
   "metadata": {},
   "outputs": [
    {
     "data": {
      "text/plain": [
       "array([[-0.70923138, -0.12881021, -0.04779966, -0.24381413,  0.29269126,\n",
       "        -0.5322127 , -0.2434791 ]])"
      ]
     },
     "execution_count": 54,
     "metadata": {},
     "output_type": "execute_result"
    }
   ],
   "source": [
    "pred_test_set[0]"
   ]
  },
  {
   "cell_type": "code",
   "execution_count": 55,
   "metadata": {},
   "outputs": [],
   "source": [
    "pred_test_set = np.array(pred_test_set)\n",
    "pred_test_set = pred_test_set.reshape(pred_test_set.shape[0], pred_test_set.shape[2])"
   ]
  },
  {
   "cell_type": "code",
   "execution_count": 56,
   "metadata": {},
   "outputs": [],
   "source": [
    "pred_test_set_inverted = scaler.inverse_transform(pred_test_set)"
   ]
  },
  {
   "cell_type": "code",
   "execution_count": 57,
   "metadata": {},
   "outputs": [],
   "source": [
    "result_list = []\n",
    "sales_dates = list(sales_diff[-10:].date)\n",
    "act_sales = list(sales_diff[-10:].sale)\n",
    "\n",
    "for index in range(0, len(pred_test_set_inverted)):\n",
    "    result_dict = {}\n",
    "    result_dict['pred_value'] = int(pred_test_set_inverted[index][0] + act_sales[index])\n",
    "    result_dict['date'] = sales_dates[index]\n",
    "    result_list.append(result_dict)\n",
    "df_result = pd.DataFrame(result_list)"
   ]
  },
  {
   "cell_type": "code",
   "execution_count": 58,
   "metadata": {},
   "outputs": [
    {
     "data": {
      "text/html": [
       "<div>\n",
       "<style scoped>\n",
       "    .dataframe tbody tr th:only-of-type {\n",
       "        vertical-align: middle;\n",
       "    }\n",
       "\n",
       "    .dataframe tbody tr th {\n",
       "        vertical-align: top;\n",
       "    }\n",
       "\n",
       "    .dataframe thead th {\n",
       "        text-align: right;\n",
       "    }\n",
       "</style>\n",
       "<table border=\"1\" class=\"dataframe\">\n",
       "  <thead>\n",
       "    <tr style=\"text-align: right;\">\n",
       "      <th></th>\n",
       "      <th>pred_value</th>\n",
       "      <th>date</th>\n",
       "    </tr>\n",
       "  </thead>\n",
       "  <tbody>\n",
       "    <tr>\n",
       "      <th>0</th>\n",
       "      <td>30244</td>\n",
       "      <td>2011-8-31</td>\n",
       "    </tr>\n",
       "    <tr>\n",
       "      <th>1</th>\n",
       "      <td>66771</td>\n",
       "      <td>2011-8-32</td>\n",
       "    </tr>\n",
       "    <tr>\n",
       "      <th>2</th>\n",
       "      <td>215768</td>\n",
       "      <td>2011-8-33</td>\n",
       "    </tr>\n",
       "    <tr>\n",
       "      <th>3</th>\n",
       "      <td>148549</td>\n",
       "      <td>2011-8-34</td>\n",
       "    </tr>\n",
       "    <tr>\n",
       "      <th>4</th>\n",
       "      <td>37741</td>\n",
       "      <td>2011-8-35</td>\n",
       "    </tr>\n",
       "    <tr>\n",
       "      <th>5</th>\n",
       "      <td>162278</td>\n",
       "      <td>2011-9-35</td>\n",
       "    </tr>\n",
       "    <tr>\n",
       "      <th>6</th>\n",
       "      <td>230836</td>\n",
       "      <td>2011-9-36</td>\n",
       "    </tr>\n",
       "    <tr>\n",
       "      <th>7</th>\n",
       "      <td>145655</td>\n",
       "      <td>2011-9-37</td>\n",
       "    </tr>\n",
       "    <tr>\n",
       "      <th>8</th>\n",
       "      <td>250956</td>\n",
       "      <td>2011-9-38</td>\n",
       "    </tr>\n",
       "    <tr>\n",
       "      <th>9</th>\n",
       "      <td>87013</td>\n",
       "      <td>2011-9-39</td>\n",
       "    </tr>\n",
       "  </tbody>\n",
       "</table>\n",
       "</div>"
      ],
      "text/plain": [
       "   pred_value       date\n",
       "0       30244  2011-8-31\n",
       "1       66771  2011-8-32\n",
       "2      215768  2011-8-33\n",
       "3      148549  2011-8-34\n",
       "4       37741  2011-8-35\n",
       "5      162278  2011-9-35\n",
       "6      230836  2011-9-36\n",
       "7      145655  2011-9-37\n",
       "8      250956  2011-9-38\n",
       "9       87013  2011-9-39"
      ]
     },
     "execution_count": 58,
     "metadata": {},
     "output_type": "execute_result"
    }
   ],
   "source": [
    "df_result"
   ]
  },
  {
   "cell_type": "code",
   "execution_count": 59,
   "metadata": {},
   "outputs": [
    {
     "data": {
      "text/html": [
       "<div>\n",
       "<style scoped>\n",
       "    .dataframe tbody tr th:only-of-type {\n",
       "        vertical-align: middle;\n",
       "    }\n",
       "\n",
       "    .dataframe tbody tr th {\n",
       "        vertical-align: top;\n",
       "    }\n",
       "\n",
       "    .dataframe thead th {\n",
       "        text-align: right;\n",
       "    }\n",
       "</style>\n",
       "<table border=\"1\" class=\"dataframe\">\n",
       "  <thead>\n",
       "    <tr style=\"text-align: right;\">\n",
       "      <th></th>\n",
       "      <th>date</th>\n",
       "      <th>sale</th>\n",
       "      <th>previous_sale</th>\n",
       "      <th>diff</th>\n",
       "    </tr>\n",
       "  </thead>\n",
       "  <tbody>\n",
       "    <tr>\n",
       "      <th>53</th>\n",
       "      <td>2011-8-31</td>\n",
       "      <td>149963.460</td>\n",
       "      <td>162809.961</td>\n",
       "      <td>-12846.501</td>\n",
       "    </tr>\n",
       "    <tr>\n",
       "      <th>54</th>\n",
       "      <td>2011-8-32</td>\n",
       "      <td>136970.110</td>\n",
       "      <td>149963.460</td>\n",
       "      <td>-12993.350</td>\n",
       "    </tr>\n",
       "    <tr>\n",
       "      <th>55</th>\n",
       "      <td>2011-8-33</td>\n",
       "      <td>164608.070</td>\n",
       "      <td>136970.110</td>\n",
       "      <td>27637.960</td>\n",
       "    </tr>\n",
       "    <tr>\n",
       "      <th>56</th>\n",
       "      <td>2011-8-34</td>\n",
       "      <td>144939.390</td>\n",
       "      <td>164608.070</td>\n",
       "      <td>-19668.680</td>\n",
       "    </tr>\n",
       "    <tr>\n",
       "      <th>57</th>\n",
       "      <td>2011-8-35</td>\n",
       "      <td>19886.970</td>\n",
       "      <td>144939.390</td>\n",
       "      <td>-125052.420</td>\n",
       "    </tr>\n",
       "    <tr>\n",
       "      <th>58</th>\n",
       "      <td>2011-9-35</td>\n",
       "      <td>83920.630</td>\n",
       "      <td>19886.970</td>\n",
       "      <td>64033.660</td>\n",
       "    </tr>\n",
       "    <tr>\n",
       "      <th>59</th>\n",
       "      <td>2011-9-36</td>\n",
       "      <td>164930.550</td>\n",
       "      <td>83920.630</td>\n",
       "      <td>81009.920</td>\n",
       "    </tr>\n",
       "    <tr>\n",
       "      <th>60</th>\n",
       "      <td>2011-9-37</td>\n",
       "      <td>205208.970</td>\n",
       "      <td>164930.550</td>\n",
       "      <td>40278.420</td>\n",
       "    </tr>\n",
       "    <tr>\n",
       "      <th>61</th>\n",
       "      <td>2011-9-38</td>\n",
       "      <td>299886.361</td>\n",
       "      <td>205208.970</td>\n",
       "      <td>94677.391</td>\n",
       "    </tr>\n",
       "    <tr>\n",
       "      <th>62</th>\n",
       "      <td>2011-9-39</td>\n",
       "      <td>177493.861</td>\n",
       "      <td>299886.361</td>\n",
       "      <td>-122392.500</td>\n",
       "    </tr>\n",
       "  </tbody>\n",
       "</table>\n",
       "</div>"
      ],
      "text/plain": [
       "         date        sale  previous_sale        diff\n",
       "53  2011-8-31  149963.460     162809.961  -12846.501\n",
       "54  2011-8-32  136970.110     149963.460  -12993.350\n",
       "55  2011-8-33  164608.070     136970.110   27637.960\n",
       "56  2011-8-34  144939.390     164608.070  -19668.680\n",
       "57  2011-8-35   19886.970     144939.390 -125052.420\n",
       "58  2011-9-35   83920.630      19886.970   64033.660\n",
       "59  2011-9-36  164930.550      83920.630   81009.920\n",
       "60  2011-9-37  205208.970     164930.550   40278.420\n",
       "61  2011-9-38  299886.361     205208.970   94677.391\n",
       "62  2011-9-39  177493.861     299886.361 -122392.500"
      ]
     },
     "execution_count": 59,
     "metadata": {},
     "output_type": "execute_result"
    }
   ],
   "source": [
    "sales_diff.tail(10)"
   ]
  },
  {
   "cell_type": "code",
   "execution_count": 60,
   "metadata": {},
   "outputs": [],
   "source": [
    "df_sales_pred = pd.merge(sales_diff, df_result, on='date', how='left')"
   ]
  },
  {
   "cell_type": "code",
   "execution_count": 61,
   "metadata": {},
   "outputs": [
    {
     "data": {
      "text/html": [
       "<div>\n",
       "<style scoped>\n",
       "    .dataframe tbody tr th:only-of-type {\n",
       "        vertical-align: middle;\n",
       "    }\n",
       "\n",
       "    .dataframe tbody tr th {\n",
       "        vertical-align: top;\n",
       "    }\n",
       "\n",
       "    .dataframe thead th {\n",
       "        text-align: right;\n",
       "    }\n",
       "</style>\n",
       "<table border=\"1\" class=\"dataframe\">\n",
       "  <thead>\n",
       "    <tr style=\"text-align: right;\">\n",
       "      <th></th>\n",
       "      <th>date</th>\n",
       "      <th>sale</th>\n",
       "      <th>previous_sale</th>\n",
       "      <th>diff</th>\n",
       "      <th>pred_value</th>\n",
       "    </tr>\n",
       "  </thead>\n",
       "  <tbody>\n",
       "    <tr>\n",
       "      <th>0</th>\n",
       "      <td>2010-12-49</td>\n",
       "      <td>208040.570</td>\n",
       "      <td>145805.750</td>\n",
       "      <td>62234.820</td>\n",
       "      <td>NaN</td>\n",
       "    </tr>\n",
       "    <tr>\n",
       "      <th>1</th>\n",
       "      <td>2010-12-50</td>\n",
       "      <td>157227.370</td>\n",
       "      <td>208040.570</td>\n",
       "      <td>-50813.200</td>\n",
       "      <td>NaN</td>\n",
       "    </tr>\n",
       "    <tr>\n",
       "      <th>2</th>\n",
       "      <td>2010-12-51</td>\n",
       "      <td>43530.330</td>\n",
       "      <td>157227.370</td>\n",
       "      <td>-113697.040</td>\n",
       "      <td>NaN</td>\n",
       "    </tr>\n",
       "    <tr>\n",
       "      <th>3</th>\n",
       "      <td>2011-1-1</td>\n",
       "      <td>108968.860</td>\n",
       "      <td>43530.330</td>\n",
       "      <td>65438.530</td>\n",
       "      <td>NaN</td>\n",
       "    </tr>\n",
       "    <tr>\n",
       "      <th>4</th>\n",
       "      <td>2011-1-2</td>\n",
       "      <td>152375.610</td>\n",
       "      <td>108968.860</td>\n",
       "      <td>43406.750</td>\n",
       "      <td>NaN</td>\n",
       "    </tr>\n",
       "    <tr>\n",
       "      <th>...</th>\n",
       "      <td>...</td>\n",
       "      <td>...</td>\n",
       "      <td>...</td>\n",
       "      <td>...</td>\n",
       "      <td>...</td>\n",
       "    </tr>\n",
       "    <tr>\n",
       "      <th>57</th>\n",
       "      <td>2011-9-35</td>\n",
       "      <td>83920.630</td>\n",
       "      <td>19886.970</td>\n",
       "      <td>64033.660</td>\n",
       "      <td>162278.0</td>\n",
       "    </tr>\n",
       "    <tr>\n",
       "      <th>58</th>\n",
       "      <td>2011-9-36</td>\n",
       "      <td>164930.550</td>\n",
       "      <td>83920.630</td>\n",
       "      <td>81009.920</td>\n",
       "      <td>230836.0</td>\n",
       "    </tr>\n",
       "    <tr>\n",
       "      <th>59</th>\n",
       "      <td>2011-9-37</td>\n",
       "      <td>205208.970</td>\n",
       "      <td>164930.550</td>\n",
       "      <td>40278.420</td>\n",
       "      <td>145655.0</td>\n",
       "    </tr>\n",
       "    <tr>\n",
       "      <th>60</th>\n",
       "      <td>2011-9-38</td>\n",
       "      <td>299886.361</td>\n",
       "      <td>205208.970</td>\n",
       "      <td>94677.391</td>\n",
       "      <td>250956.0</td>\n",
       "    </tr>\n",
       "    <tr>\n",
       "      <th>61</th>\n",
       "      <td>2011-9-39</td>\n",
       "      <td>177493.861</td>\n",
       "      <td>299886.361</td>\n",
       "      <td>-122392.500</td>\n",
       "      <td>87013.0</td>\n",
       "    </tr>\n",
       "  </tbody>\n",
       "</table>\n",
       "<p>62 rows × 5 columns</p>\n",
       "</div>"
      ],
      "text/plain": [
       "          date        sale  previous_sale        diff  pred_value\n",
       "0   2010-12-49  208040.570     145805.750   62234.820         NaN\n",
       "1   2010-12-50  157227.370     208040.570  -50813.200         NaN\n",
       "2   2010-12-51   43530.330     157227.370 -113697.040         NaN\n",
       "3     2011-1-1  108968.860      43530.330   65438.530         NaN\n",
       "4     2011-1-2  152375.610     108968.860   43406.750         NaN\n",
       "..         ...         ...            ...         ...         ...\n",
       "57   2011-9-35   83920.630      19886.970   64033.660    162278.0\n",
       "58   2011-9-36  164930.550      83920.630   81009.920    230836.0\n",
       "59   2011-9-37  205208.970     164930.550   40278.420    145655.0\n",
       "60   2011-9-38  299886.361     205208.970   94677.391    250956.0\n",
       "61   2011-9-39  177493.861     299886.361 -122392.500     87013.0\n",
       "\n",
       "[62 rows x 5 columns]"
      ]
     },
     "execution_count": 61,
     "metadata": {},
     "output_type": "execute_result"
    }
   ],
   "source": [
    "df_sales_pred"
   ]
  },
  {
   "cell_type": "code",
   "execution_count": 66,
   "metadata": {},
   "outputs": [
    {
     "data": {
      "text/plain": [
       "171997.37199999997"
      ]
     },
     "execution_count": 66,
     "metadata": {},
     "output_type": "execute_result"
    }
   ],
   "source": [
    "actual = df_sales_pred.sale[-10:].sum()\n",
    "predicted = df_sales_pred.pred_value[-10:].sum()\n",
    "actual - predicted"
   ]
  },
  {
   "cell_type": "code",
   "execution_count": 62,
   "metadata": {},
   "outputs": [
    {
     "data": {
      "text/plain": [
       "<matplotlib.axes._subplots.AxesSubplot at 0x1fcffcb6880>"
      ]
     },
     "execution_count": 62,
     "metadata": {},
     "output_type": "execute_result"
    },
    {
     "data": {
      "image/png": "[encoded data removed]",
      "text/plain": [
       "<Figure size 1080x720 with 1 Axes>"
      ]
     },
     "metadata": {
      "needs_background": "light"
     },
     "output_type": "display_data"
    }
   ],
   "source": [
    "plt.figure(figsize=(15,10))\n",
    "sns.lineplot(x='date', y='sale', data=df_sales_pred)\n",
    "sns.lineplot(x='date', y='pred_value', data=df_sales_pred)"
   ]
  },
  {
   "cell_type": "code",
   "execution_count": null,
   "metadata": {},
   "outputs": [],
   "source": []
  }
 ],
 "metadata": {
  "kernelspec": {
   "display_name": "Python 3",
   "language": "python",
   "name": "python3"
  },
  "language_info": {
   "codemirror_mode": {
    "name": "ipython",
    "version": 3
   },
   "file_extension": ".py",
   "mimetype": "text/x-python",
   "name": "python",
   "nbconvert_exporter": "python",
   "pygments_lexer": "ipython3",
   "version": "3.8.3"
  }
 },
 "nbformat": 4,
 "nbformat_minor": 4
}
